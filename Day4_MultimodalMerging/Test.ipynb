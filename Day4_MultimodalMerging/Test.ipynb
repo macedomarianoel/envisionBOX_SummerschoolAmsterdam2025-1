{
 "cells": [
  {
   "cell_type": "code",
   "execution_count": 1,
   "id": "a4c560aa",
   "metadata": {},
   "outputs": [
    {
     "name": "stdout",
     "output_type": "stream",
     "text": [
      "All loaded\n"
     ]
    }
   ],
   "source": [
    "\n",
    "import pandas as pd\n",
    "import antropy as ent\n",
    "import librosa\n",
    "import matplotlib.pyplot as plt\n",
    "import numpy as np\n",
    "import plotly\n",
    "import sklearn\n",
    "import scipy\n",
    "import trc\n",
    "\n",
    "\n",
    "print('All loaded')"
   ]
  },
  {
   "cell_type": "code",
   "execution_count": null,
   "id": "d8d22ed3",
   "metadata": {},
   "outputs": [],
   "source": []
  }
 ],
 "metadata": {
  "kernelspec": {
   "display_name": "EBOX25",
   "language": "python",
   "name": "python3"
  },
  "language_info": {
   "codemirror_mode": {
    "name": "ipython",
    "version": 3
   },
   "file_extension": ".py",
   "mimetype": "text/x-python",
   "name": "python",
   "nbconvert_exporter": "python",
   "pygments_lexer": "ipython3",
   "version": "3.10.18"
  }
 },
 "nbformat": 4,
 "nbformat_minor": 5
}
