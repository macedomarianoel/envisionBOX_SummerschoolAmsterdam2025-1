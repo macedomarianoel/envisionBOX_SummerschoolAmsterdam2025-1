{
 "cells": [
  {
   "cell_type": "markdown",
   "id": "1a5bea6b",
   "metadata": {},
   "source": [
    "# Pose2Sim workshop\n",
    "EnvisionBOX Summer School, 2025, Amsterdam. Presented by David Pagnon\n",
    "\n",
    "<bt><br><br>"
   ]
  },
  {
   "cell_type": "markdown",
   "id": "f36d6ca9",
   "metadata": {},
   "source": [
    "`Pose2Sim` provides a workflow for 3D markerless kinematics (human or animal), as an alternative to traditional marker-based MoCap methods. \n",
    "\n",
    "**Pose2Sim** is free and open-source, requiring low-cost hardware but with research-grade accuracy and production-grade robustness. It gives maximum control over clearly explained parameters. Any combination of phones, webcams, or GoPros can be used with fully clothed subjects, so it is particularly adapted to the sports field, the doctor's office, or for outdoor 3D animation capture.\n",
    "\n",
    "***Note:*** For real-time analysis with a single camera, please consider **[Sports2D](https://github.com/davidpagnon/Sports2D)** (note that the motion must lie in the sagittal or frontal plane). \n"
   ]
  },
  {
   "cell_type": "code",
   "execution_count": null,
   "id": "1835e46f",
   "metadata": {},
   "outputs": [],
   "source": [
    "from IPython.display import Video, display\n",
    "\n",
    "display(Video('Pose2Sim_small.mp4', embed=True, width=1280, height=720))"
   ]
  },
  {
   "cell_type": "markdown",
   "id": "6cd61b4e",
   "metadata": {},
   "source": [
    "# Table of Contents\n",
    "\n",
    "1. [Install and import libraries](#install-and-import-libraries)\n",
    "2. [Install Pose2Sim](#install-pose2sim)\n",
    "    1. [Install miniconda](#install-miniconda)\n",
    "    2. [Create a new conda environment](#create-a-new-conda-environment)\n",
    "    3. [Install OpenSim](#install-opensim)\n",
    "    4. [Install Pose2Sim Core](#install-pose2sim-core)\n",
    "    5. [Optional: Install GPU libraries](#optional-install-gpu-libraries)\n",
    "3. [Try Pose2Sim Demo](#try-pose2sim-demo)\n",
    "    1. [Copy demo files](#copy-demo-files)\n",
    "    2. [Run Pose2Sim demo](#run-pose2sim-demo)\n",
    "4. [Run on the Tragic Talkers dataset](#run-on-the-tragic-talkers-dataset)\n",
    "    1. [Choose a subset](#choose-a-subset)\n",
    "    2. [Download videos and calibration files](#download-videos-and-calibration-files)\n",
    "    3. [Convert calibration files](#convert-calibration-files)\n",
    "    4. [Copy configuration file](#copy-configuration-file)\n",
    "    5. [Run pose estimation](#run-pose-estimation)\n",
    "    6. [Run person association and triangulation](#run-person-association-and-triangulation)\n",
    "    7. [Filter and run marker augmentation](#filter-and-run-marker-augmentation)\n",
    "    8. [Run scaling and inverse kinematics](#run-scaling-and-inverse-kinematics)"
   ]
  },
  {
   "cell_type": "markdown",
   "id": "f728f618",
   "metadata": {},
   "source": [
    "## Install and import libraries\n",
    "\n",
    "Install and import the libraries required for the notebook:"
   ]
  },
  {
   "cell_type": "code",
   "execution_count": null,
   "id": "38efec48",
   "metadata": {},
   "outputs": [],
   "source": [
    "!pip install ipywidgets ipyfilechooser opencv-python numpy\n",
    "!jupyter nbextension enable --py widgetsnbextension\n",
    "\n",
    "import os\n",
    "import json\n",
    "from pathlib import Path\n",
    "import cv2\n",
    "import numpy as np\n",
    "import ipywidgets as widgets\n",
    "from IPython.display import display\n",
    "from ipyfilechooser import FileChooser\n",
    "\n",
    "try: # For Google Colab\n",
    "    from google.colab import output\n",
    "    output.enable_custom_widget_manager()\n",
    "except ImportError: # For Jupyter Notebook\n",
    "    pass"
   ]
  },
  {
   "cell_type": "markdown",
   "id": "12fdac80",
   "metadata": {},
   "source": [
    "## Install Pose2Sim\n",
    "\n",
    "***N.B.*** *The following instructions are the same as those in the [Pose2Sim documentation](https://github.com/perfanalytics/pose2sim)*\n",
    "<br>"
   ]
  },
  {
   "cell_type": "markdown",
   "id": "48037d9a",
   "metadata": {},
   "source": [
    "0.1. Download this notebook.\n",
    "0.2. Install [miniconda](https://docs.conda.io/en/latest/miniconda.html) if you don't have it already.\n",
    "0.3. Install and open VSCode, pycharm, or JupyterLab, or anything . "
   ]
  },
  {
   "cell_type": "markdown",
   "id": "45040a10",
   "metadata": {},
   "source": [
    "1. Install [miniconda](https://docs.conda.io/en/latest/miniconda.html)\n",
    "2. Create a new conda environment:"
   ]
  },
  {
   "cell_type": "code",
   "execution_count": null,
   "id": "11ae94cd",
   "metadata": {},
   "outputs": [],
   "source": [
    "!conda create -n Pose2Sim python=3.10 -y \n",
    "!conda activate Pose2Sim"
   ]
  },
  {
   "cell_type": "markdown",
   "id": "2937335e",
   "metadata": {},
   "source": [
    "3. Install OpenSim:"
   ]
  },
  {
   "cell_type": "code",
   "execution_count": null,
   "id": "fb7b326e",
   "metadata": {},
   "outputs": [],
   "source": [
    "!conda install -c opensim-org opensim -y"
   ]
  },
  {
   "cell_type": "markdown",
   "id": "a10e594c",
   "metadata": {},
   "source": [
    "4. Install Pose2Sim:"
   ]
  },
  {
   "cell_type": "code",
   "execution_count": null,
   "id": "a0aca6e0",
   "metadata": {},
   "outputs": [],
   "source": [
    "!pip install pose2sim"
   ]
  },
  {
   "cell_type": "markdown",
   "id": "4a538154",
   "metadata": {},
   "source": [
    "5. *Optional:* Install the libraries for GPU support:"
   ]
  },
  {
   "cell_type": "code",
   "execution_count": null,
   "id": "5e3f4011",
   "metadata": {},
   "outputs": [],
   "source": [
    "!pip install torch torchvision torchaudio --index-url https://download.pytorch.org/whl/cu124\n",
    "!pip uninstall onnxruntime\n",
    "!pip install onnxruntime-gpu"
   ]
  },
  {
   "cell_type": "markdown",
   "id": "b2cd7311",
   "metadata": {},
   "source": [
    "## Try Pose2Sim Demo"
   ]
  },
  {
   "cell_type": "markdown",
   "id": "91e54082",
   "metadata": {},
   "source": [
    "Copy the demo files to the desired location:"
   ]
  },
  {
   "cell_type": "code",
   "execution_count": null,
   "id": "f27b85c3",
   "metadata": {},
   "outputs": [],
   "source": [
    "from Pose2Sim import Pose2Sim\n",
    "\n",
    "singleperson_demo_path = Path(Pose2Sim.__file__).parent.resolve() / 'Demo_SinglePerson'\n",
    "\n",
    "def create_folder_picker():\n",
    "    fc = FileChooser(\n",
    "        path=Path.cwd(),  # Start in current directory\n",
    "        filename='',\n",
    "        title='Select download folder',\n",
    "        select_desc='Choose',\n",
    "        change_desc='Change'\n",
    "    )\n",
    "    fc.use_dir_icons = True\n",
    "    fc.filter_pattern = None  # Show all items\n",
    "    fc.dir_icon = '📁'\n",
    "    fc.show_only_dirs = True  # Only show directories\n",
    "    return fc\n",
    "\n",
    "fc = create_folder_picker()\n",
    "display(fc)\n",
    "selected_folder = Path.cwd() if fc.selected is None else Path(fc.selected)\n",
    "\n",
    "!cp -r {singleperson_demo_path} {selected_folder}/\n",
    "os.chdir(singleperson_demo_path)"
   ]
  },
  {
   "cell_type": "markdown",
   "id": "1bfac06a",
   "metadata": {},
   "source": [
    "Run Pose2Sim demo:\n"
   ]
  },
  {
   "cell_type": "code",
   "execution_count": null,
   "id": "00b62697",
   "metadata": {},
   "outputs": [],
   "source": [
    "Pose2Sim.calibration()\n",
    "Pose2Sim.poseEstimation()\n",
    "Pose2Sim.synchronization()\n",
    "Pose2Sim.personAssociation()\n",
    "Pose2Sim.triangulation()\n",
    "Pose2Sim.filtering()\n",
    "Pose2Sim.markerAugmentation()\n",
    "Pose2Sim.kinematics()\n",
    "\n",
    "# Or equivalently:\n",
    "#Pose2Sim.runAll() \n",
    "# Or:\n",
    "#Pose2Sim.runAll(do_calibration=True, do_poseEstimation=True, do_synchronization=True, do_personAssociation=True, do_triangulation=True, do_filtering=True, do_markerAugmentation=True, do_kinematics=True)"
   ]
  },
  {
   "cell_type": "markdown",
   "id": "257ab2e5",
   "metadata": {},
   "source": [
    "## Run on the Tragic Talkers dataset\n"
   ]
  },
  {
   "cell_type": "markdown",
   "id": "d39310b0",
   "metadata": {},
   "source": [
    "### Choose a subset of the dataset to run on, ie a session name and some cameras (2 minimum, preferably 4 or more)"
   ]
  },
  {
   "cell_type": "code",
   "execution_count": null,
   "id": "eadf9317",
   "metadata": {},
   "outputs": [],
   "source": [
    "def create_folder_picker():\n",
    "    fc = FileChooser(\n",
    "        path=Path.cwd(),  # Start in current directory\n",
    "        filename='',\n",
    "        title='Select download folder',\n",
    "        select_desc='Choose',\n",
    "        change_desc='Change'\n",
    "    )\n",
    "    fc.use_dir_icons = True\n",
    "    fc.filter_pattern = None  # Show all items\n",
    "    fc.dir_icon = '📁'\n",
    "    fc.show_only_dirs = True  # Only show directories\n",
    "    return fc\n",
    "\n",
    "session_name = widgets.Dropdown(\n",
    "    options=['conversation1_t3', 'femalemonologue1_t2', 'femalemonologue2_t3', 'interactive1_t2', 'interactive4_t3', 'male_monologue2_t3'],\n",
    "    value='femalemonologue2_t3',\n",
    "    description='Session name:',\n",
    "    disabled=False,\n",
    ")\n",
    "\n",
    "camera_numbers = widgets.SelectMultiple(\n",
    "    options=['01', '02', '03', '04', '05', '06', '07', '08', '09', '10', '11', '12', '13', '14', '15', '16', '17', '18', '19', '20', '21', '22'],\n",
    "    value=['01', '11', '12', '22'], \n",
    "    rows=12,\n",
    "    description='Choose cameras',\n",
    "    disabled=False\n",
    ")\n",
    "\n",
    "fc = create_folder_picker()\n",
    "\n",
    "display(session_name)\n",
    "display(camera_numbers)\n",
    "display(fc)"
   ]
  },
  {
   "cell_type": "markdown",
   "id": "39c4e59d",
   "metadata": {},
   "source": [
    "Download videos and calibration files from the chosen subset:"
   ]
  },
  {
   "cell_type": "code",
   "execution_count": null,
   "id": "42447f37",
   "metadata": {},
   "outputs": [],
   "source": [
    "base_url = 'https://github.com/sarkadava/envisionBOX_SummerschoolAmsterdam2025'\n",
    "\n",
    "selected_folder = Path.cwd() if fc.selected is None else Path(fc.selected)\n",
    "session_folder = selected_folder/session_name.value\n",
    "\n",
    "def download_videos():\n",
    "    for camera_number in camera_numbers.value:\n",
    "        file_name = f\"{session_name.value}-cam{camera_number}.mp4\"\n",
    "        file_url = f\"{base_url}/raw/main/Sample/{session_name.value}/{file_name}\"\n",
    "        (session_folder/'videos').mkdir(parents=True, exist_ok=True)\n",
    "        os.system(f\"wget -O {session_folder/'videos'/file_name} {file_url}\")\n",
    "        print(f\"Downloaded: {session_folder/'videos'/file_name}\")\n",
    "\n",
    "def download_calibration():\n",
    "    for camera_number in camera_numbers.value:\n",
    "        file_name = f\"camera-0{camera_number}.json\"\n",
    "        file_url = f\"{base_url}/raw/main/Sample/camera_calibration_data/{file_name}\"\n",
    "        (session_folder/'calibration').mkdir(parents=True, exist_ok=True)\n",
    "        os.system(f\"wget -O {session_folder/'calibration'/file_name} {file_url}\")\n",
    "        print(f\"Downloaded: {session_folder/'calibration'/file_name}\")\n",
    "\n",
    "download_videos()\n",
    "download_calibration()"
   ]
  },
  {
   "cell_type": "markdown",
   "id": "1aa884dd",
   "metadata": {},
   "source": [
    "### Convert the calibration files to the Pose2Sim format"
   ]
  },
  {
   "cell_type": "code",
   "execution_count": null,
   "id": "402825aa",
   "metadata": {},
   "outputs": [],
   "source": [
    "from Pose2Sim.calibration import toml_write\n",
    "from Pose2Sim.common import rotate_cam, world_to_camera_persp\n",
    "\n",
    "selected_folder = Path.cwd() if fc.selected is None else Path(fc.selected)\n",
    "session_folder = selected_folder/session_name.value\n",
    "\n",
    "json_calib_files = sorted((session_folder/'calibration').glob('*.json'))\n",
    "ret, C, S, D, K, R, T = [], [], [], [], [], [], []\n",
    "for file_path in json_calib_files:\n",
    "    with open(file_path, 'r') as f:\n",
    "        calib_data_cam = json.load(f)['camera']\n",
    "        C.append(file_path.stem)  # Name\n",
    "        S.append([int(calib_data_cam['width']), int(calib_data_cam['height'])]) # Size\n",
    "        D.append([float(d) for d in calib_data_cam['distortion']][:4]) # Distortion\n",
    "        K.append(np.array([[float(calib_data_cam['fx']), float(calib_data_cam['skew']), float(calib_data_cam['cx'])],\n",
    "                   [0, float(calib_data_cam['fy']), float(calib_data_cam['cy'])],\n",
    "                   [0, 0, 1]])) # Intrinsics\n",
    "        rot_mat_cam = np.array([float(r) for r in calib_data_cam['r']]).reshape(3,3)\n",
    "        t_cam = np.array([float(t) for t in calib_data_cam['t']])\n",
    "\n",
    "        # Rotate cameras by Pi/2 around x in world frame\n",
    "        # camera frame to world frame\n",
    "        R_w, T_w = world_to_camera_persp(rot_mat_cam, t_cam)\n",
    "        # x_rotate -Pi/2 and z_rotate Pi\n",
    "        R_w_90, T_w_90 = rotate_cam(R_w, T_w, ang_x=-np.pi/2, ang_y=0, ang_z=np.pi)\n",
    "        # world frame to camera frame\n",
    "        R_c_90, T_c_90 = world_to_camera_persp(R_w_90, T_w_90)\n",
    "        # store in R and T\n",
    "        R.append(cv2.Rodrigues(R_c_90)[0].squeeze())\n",
    "        T.append(t_cam)\n",
    "\n",
    "toml_calib_file = session_folder/'calibration'/f\"Calib_{'_'.join(camera_numbers.value)}.toml\"\n",
    "toml_write(toml_calib_file, C, S, D, K, R, T)\n"
   ]
  },
  {
   "cell_type": "markdown",
   "id": "068e6301",
   "metadata": {},
   "source": [
    "Copy the configuration file to the session folder:"
   ]
  },
  {
   "cell_type": "code",
   "execution_count": null,
   "id": "ca9f7e83",
   "metadata": {},
   "outputs": [],
   "source": [
    "from Pose2Sim import Pose2Sim\n",
    "singleperson_demo_path = Path(Pose2Sim.__file__).parent.resolve() / 'Demo_SinglePerson'\n",
    "!cp {singleperson_demo_path}/Config.toml {session_folder}/"
   ]
  },
  {
   "cell_type": "markdown",
   "id": "dadc0fee",
   "metadata": {},
   "source": [
    "Select model with hands and run pose estimation \n",
    "\n",
    "N.B.: We do not need to run Pose2Sim.calibration() since we already retrieved and converted the original calibration files.\\\n",
    "N.B.2: We do not need to run Pose2Sim.synchronization() either, since the cameras are natively synchronized."
   ]
  },
  {
   "cell_type": "code",
   "execution_count": null,
   "id": "69539d3b",
   "metadata": {},
   "outputs": [],
   "source": [
    "import toml\n",
    "\n",
    "os.chdir(session_folder)\n",
    "config_dict = toml.load('Config.toml')\n",
    "config_dict['project']['project_dir'] = session_folder\n",
    "config_dict['project']['multi_person'] = True\n",
    "config_dict['pose']['pose_model'] = 'Whole_body'\n",
    "config_dict['filtering']['display_figures'] = False\n",
    "\n",
    "Pose2Sim.poseEstimation(config_dict)"
   ]
  },
  {
   "cell_type": "code",
   "execution_count": null,
   "id": "0c5a9c1c",
   "metadata": {},
   "outputs": [],
   "source": [
    "# ## Does not seem to with with the current codec\n",
    "# from IPython.display import Video\n",
    "# for vidfile in (session_folder/'pose').glob('*.mp4'):\n",
    "#     print(f\"Video: {vidfile.name}\")\n",
    "#     display(Video(vidfile, embed=True, width=640, height=535))"
   ]
  },
  {
   "cell_type": "code",
   "execution_count": null,
   "id": "afa6369a",
   "metadata": {},
   "outputs": [],
   "source": [
    "Pose2Sim.personAssociation(config_dict)\n",
    "Pose2Sim.triangulation(config_dict)"
   ]
  },
  {
   "cell_type": "markdown",
   "id": "b76d7afa",
   "metadata": {},
   "source": [
    "Filter and run marker augmentation:"
   ]
  },
  {
   "cell_type": "code",
   "execution_count": null,
   "id": "5071e2ed",
   "metadata": {},
   "outputs": [],
   "source": [
    "Pose2Sim.filtering(config_dict)\n",
    "Pose2Sim.markerAugmentation(config_dict)"
   ]
  },
  {
   "cell_type": "markdown",
   "id": "163c577d",
   "metadata": {},
   "source": [
    "Run scaling and inverse kinematics:"
   ]
  },
  {
   "cell_type": "code",
   "execution_count": null,
   "id": "ad2b4250",
   "metadata": {},
   "outputs": [],
   "source": [
    "Pose2Sim.kinematics(config_dict)"
   ]
  }
 ],
 "metadata": {
  "kernelspec": {
   "display_name": "Pose2Sim",
   "language": "python",
   "name": "python3"
  },
  "language_info": {
   "codemirror_mode": {
    "name": "ipython",
    "version": 3
   },
   "file_extension": ".py",
   "mimetype": "text/x-python",
   "name": "python",
   "nbconvert_exporter": "python",
   "pygments_lexer": "ipython3",
   "version": "3.10.17"
  }
 },
 "nbformat": 4,
 "nbformat_minor": 5
}
